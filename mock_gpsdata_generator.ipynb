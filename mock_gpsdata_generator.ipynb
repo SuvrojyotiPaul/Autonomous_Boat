{
 "cells": [
  {
   "cell_type": "code",
   "execution_count": 1,
   "metadata": {},
   "outputs": [],
   "source": [
    "import csv\n",
    "from datetime import datetime, timedelta\n",
    "\n",
    "\n",
    "waypoints = [\n",
    "    (40.0000, -74.0000),\n",
    "    (40.0005, -74.0000),\n",
    "    (40.0005, -73.9995),\n",
    "    (40.0000, -73.9995),\n",
    "    (40.0000, -74.0000),\n",
    "    (40.0005, -73.9995)\n",
    "]\n",
    "\n",
    "\n",
    "def interpolate(start, end, steps):\n",
    "    lat_step = (end[0] - start[0]) / steps\n",
    "    lon_step = (end[1] - start[1]) / steps\n",
    "    return [(start[0] + i * lat_step, start[1] + i * lon_step) for i in range(steps + 1)]\n",
    "\n",
    "\n",
    "def generate_mock_gps_data(waypoints, steps_per_segment=10):\n",
    "    mock_data = []\n",
    "    current_time = datetime.now()\n",
    "    for i in range(len(waypoints) - 1):\n",
    "        segment = interpolate(waypoints[i], waypoints[i+1], steps_per_segment)\n",
    "        for point in segment:\n",
    "            mock_data.append({\n",
    "                \"timestamp\": current_time.strftime('%Y-%m-%d %H:%M:%S'),\n",
    "                \"latitude\": point[0],\n",
    "                \"longitude\": point[1]\n",
    "            })\n",
    "            current_time += timedelta(seconds=5)  \n",
    "    return mock_data\n",
    "\n",
    "\n",
    "def write_to_csv(data, filename='mock_gps_data.csv'):\n",
    "    with open(filename, 'w', newline='') as file:\n",
    "        fieldnames = ['timestamp', 'latitude', 'longitude']\n",
    "        writer = csv.DictWriter(file, fieldnames=fieldnames)\n",
    "        writer.writeheader()\n",
    "        for row in data:\n",
    "            writer.writerow(row)\n",
    "\n",
    "\n",
    "mock_data = generate_mock_gps_data(waypoints)\n",
    "write_to_csv(mock_data)\n"
   ]
  }
 ],
 "metadata": {
  "kernelspec": {
   "display_name": "Python 3",
   "language": "python",
   "name": "python3"
  },
  "language_info": {
   "codemirror_mode": {
    "name": "ipython",
    "version": 3
   },
   "file_extension": ".py",
   "mimetype": "text/x-python",
   "name": "python",
   "nbconvert_exporter": "python",
   "pygments_lexer": "ipython3",
   "version": "3.10.12"
  }
 },
 "nbformat": 4,
 "nbformat_minor": 2
}
